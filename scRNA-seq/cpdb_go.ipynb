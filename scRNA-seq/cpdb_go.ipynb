{
 "cells": [
  {
   "cell_type": "markdown",
   "metadata": {},
   "source": [
    "# Perform Go Analysis on CellPhoneDB Results"
   ]
  },
  {
   "cell_type": "code",
   "execution_count": null,
   "metadata": {},
   "outputs": [],
   "source": [
    "import numpy as np\n",
    "import os\n",
    "import pandas as pd\n",
    "import seaborn as sns\n",
    "import matplotlib.pyplot as plt\n",
    "from gprofiler import gprofiler\n",
    "import gc"
   ]
  },
  {
   "cell_type": "markdown",
   "metadata": {},
   "source": [
    "## Load Data"
   ]
  },
  {
   "cell_type": "code",
   "execution_count": null,
   "metadata": {},
   "outputs": [],
   "source": [
    "# Set Paths\n",
    "directory = 'results/method2_withScore'\n",
    "file_path = directory + '/statistical_analysis_significant_means'"
   ]
  },
  {
   "cell_type": "code",
   "execution_count": null,
   "metadata": {},
   "outputs": [],
   "source": [
    "# Load the interaction data\n",
    "interaction_data = pd.read_csv(file_path, sep='\\t')\n",
    "\n",
    "# Create a dataframe with cell type pairs and interaction scores\n",
    "interaction_scores = interaction_data.set_index('interacting_pair').iloc[:, 13:]\n"
   ]
  },
  {
   "cell_type": "markdown",
   "metadata": {},
   "source": [
    "## Perform GO Analysis"
   ]
  },
  {
   "cell_type": "markdown",
   "metadata": {},
   "source": [
    "First, we will take all significant ligand and receptors found from cellphoneDB and perform gene ontology.\n",
    "\n",
    "This analysis will help us see which pathways our gene sets are statistically enriched"
   ]
  },
  {
   "cell_type": "code",
   "execution_count": null,
   "metadata": {},
   "outputs": [],
   "source": [
    "#Make List objects for ligand and receptors in dataset\n",
    "interactions = interaction_scores.index.values.tolist()\n",
    "ligands = [x.split('_')[0] for x in interactions]\n",
    "receptors = [x.split('_')[1] for x in interactions]\n",
    "\n",
    "#Perform GO Analysis with gprofiler\n",
    "ligand_bulk = list(set(ligands))\n",
    "enrich_bulk = gprofiler(organism='hsapiens',query=ligand_bulk)\n",
    "\n",
    "#write to file\n",
    "enrich_bulk.to_csv(os.path.join(directory,'bulk_GO_analysis.csv'))"
   ]
  },
  {
   "cell_type": "markdown",
   "metadata": {},
   "source": [
    "Next, we investigate significant ligand receptor results by each cell type within our dataset. This gives us an idea of potential differences in signalling and pathway abundance by specific cells"
   ]
  },
  {
   "cell_type": "code",
   "execution_count": null,
   "metadata": {},
   "outputs": [],
   "source": [
    "# Create a dictionary to hold ligands for each cell type\n",
    "cell_type_ligands = {}\n",
    "\n",
    "cell_types = interaction_data.columns[14:]\n",
    "interaction_scores['ligand'] = ligands\n",
    "interaction_scores['receptor'] = receptors\n",
    "\n",
    "for cell_type in cell_types:\n",
    "    # Extract ligands for the cell type\n",
    "    cell_specific_ligands = interaction_scores[interaction_scores[cell_type] > 0]['ligand'].unique().tolist()\n",
    "    cell_type_ligands[cell_type] = cell_specific_ligands\n",
    "\n",
    "# Create a dictionary to hold enrichment results for each cell type\n",
    "enrichment_results_by_cell_type = {}\n",
    "\n",
    "for cell_type, ligands in cell_type_ligands.items():\n",
    "    if ligands:  # Ensure there are ligands to analyze\n",
    "        enrichment_results = gprofiler(organism='hsapiens', query=ligands)\n",
    "        if enrichment_results is None:\n",
    "            enrichment_results_by_cell_type[cell_type] = None\n",
    "        else:\n",
    "            significant_results = enrichment_results[enrichment_results['p.value'] < 0.05]\n",
    "            enrichment_results_by_cell_type[cell_type] = significant_results"
   ]
  },
  {
   "cell_type": "code",
   "execution_count": null,
   "metadata": {},
   "outputs": [],
   "source": [
    "#Write Enrichment Results to Excel File\n",
    "output_file = os.path.join(directory,'GO_enrichment_results_by_cell_type.xlsx')\n",
    "if enrichment_results_by_cell_type is not None:\n",
    "    with pd.ExcelWriter(output_file) as writer:\n",
    "        for cell_type, results in enrichment_results_by_cell_type.items():\n",
    "            if results is not None:\n",
    "                results.to_excel(writer, sheet_name=cell_type)"
   ]
  },
  {
   "cell_type": "markdown",
   "metadata": {},
   "source": [
    "## Plot Results from GO Analysis"
   ]
  },
  {
   "cell_type": "code",
   "execution_count": null,
   "metadata": {},
   "outputs": [],
   "source": [
    "#Subset to top 20 terms\n",
    "sig_bulk = enrich_bulk[enrich_bulk['p.value'] < 0.05]\n",
    "top_results = sig_bulk.sort_values(by='p.value').head(20)\n",
    "top_results['-log10(p.value)'] = -np.log10(top_results['p.value'])\n",
    "\n",
    "#Plot Go Terms\n",
    "plt.figure(figsize=(12, 8))\n",
    "sns.barplot(x='-log10(p.value)', y='term.name', data=top_results, palette='viridis')\n",
    "plt.title('Top 20 Enriched GO Terms')\n",
    "plt.xlabel('-log10(p-value)')\n",
    "plt.ylabel('GO Term')\n",
    "plt.tight_layout()\n",
    "plt.show()\n"
   ]
  },
  {
   "cell_type": "markdown",
   "metadata": {},
   "source": []
  }
 ],
 "metadata": {
  "language_info": {
   "name": "python"
  }
 },
 "nbformat": 4,
 "nbformat_minor": 2
}
