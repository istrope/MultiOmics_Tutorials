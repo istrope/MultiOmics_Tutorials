{
 "cells": [
  {
   "cell_type": "markdown",
   "metadata": {},
   "source": [
    "## Perform CellCell Interaction with CellPhoneDB\n",
    "CellphoneDB is a publicly available repository of HUMAN curated receptors, ligands and their interactions paired with a tool to interrogate your own single-cell transcriptomics data "
   ]
  },
  {
   "cell_type": "markdown",
   "metadata": {},
   "source": [
    "In this example we are using the method 2 (statistical_analysis_method) to study how cell-cell interactions change between a subset of immune cells and trophoblast cells as the trophoblast differentiate and invade the maternal uterus. This method will retrieve interactions where the mean expression of the interacting partners (proteins participating in the interaction) displays significant cell state specificity by employing a random shuffling methodology."
   ]
  },
  {
   "cell_type": "code",
   "execution_count": null,
   "metadata": {},
   "outputs": [],
   "source": [
    "import pandas as pd\n",
    "import anndata\n"
   ]
  },
  {
   "cell_type": "code",
   "execution_count": null,
   "metadata": {},
   "outputs": [],
   "source": [
    "cpdb_file_path = 'v5.0.0/cellphonedb.zip'\n",
    "meta_file_path = 'data/metadata.tsv'\n",
    "counts_file_path = 'data/normalised_log_counts.h5ad'\n",
    "microenvs_file_path = 'data/microenvironment.tsv'\n",
    "active_tf_path = 'data/active_TFs.tsv'\n",
    "out_path = 'results/method2_withScore'"
   ]
  },
  {
   "cell_type": "markdown",
   "metadata": {},
   "source": [
    "**cpdb_file_path**: (mandatory) path to the database cellphonedb.zip\n",
    "\n",
    "**meta_file_path**: (mandatory) path to the meta file linking cell barcodes to cluster labels metadata.tsv.\n",
    "\n",
    "**counts_file_path**: (mandatory) paths to normalized counts file (not z-transformed), either in text format or h5ad (recommended) normalised_log_counts.h5ad.\n",
    "\n",
    "**microenvs_file_path** (optional) path to microenvironment file that groups cell clusters by microenvironments. When providing a microenvironment file, CellphoneDB will restrict the interactions to those cells within a microenvironment.\n",
    "\n",
    "**active_tf_path:** (optional) to the active transcription factors."
   ]
  },
  {
   "cell_type": "markdown",
   "metadata": {},
   "source": [
    "### Inspect Input Files"
   ]
  },
  {
   "cell_type": "code",
   "execution_count": null,
   "metadata": {},
   "outputs": [],
   "source": [
    "metadata = pd.read_csv(meta_file_path,sep='\\t')\n",
    "metadata.head()"
   ]
  },
  {
   "cell_type": "code",
   "execution_count": null,
   "metadata": {},
   "outputs": [],
   "source": [
    "adata = anndata.read_h5ad(counts_file_path)\n",
    "adata.shape"
   ]
  },
  {
   "cell_type": "code",
   "execution_count": null,
   "metadata": {},
   "outputs": [],
   "source": [
    "microenv = pd.read_csv(microenvs_file_path, sep = '\\t')\n",
    "microenv.head(3)"
   ]
  },
  {
   "cell_type": "code",
   "execution_count": null,
   "metadata": {},
   "outputs": [],
   "source": [
    "microenv.groupby('microenvironment', group_keys = False)['cell_type'].apply(lambda x : list(x.value_counts().index))"
   ]
  },
  {
   "cell_type": "markdown",
   "metadata": {},
   "source": [
    "### Run Statistical Analysis"
   ]
  },
  {
   "cell_type": "markdown",
   "metadata": {},
   "source": [
    "The output of this method will be saved in output_path and also returned to the predefined variables.\n",
    "\n",
    "The statisical method allows the user to downsample the data with the aim of speeding up the results (subsampling arguments). To this end, CellphoneDB employs a geometric sketching procedure (Hie et al. 2019) to preserve the structure of the data without losing information from lowly represented cells. For this tutorial, we have opted to manually downsample the count matrix and the metadata file accordingly."
   ]
  },
  {
   "cell_type": "code",
   "execution_count": null,
   "metadata": {},
   "outputs": [],
   "source": [
    "from cellphonedb.src.core.methods import cpdb_statistical_analysis_method\n",
    "\n",
    "cpdb_results = cpdb_statistical_analysis_method.call(\n",
    "    cpdb_file_path = cpdb_file_path,                 # mandatory: CellphoneDB database zip file.\n",
    "    meta_file_path = meta_file_path,                 # mandatory: tsv file defining barcodes to cell label.\n",
    "    counts_file_path = counts_file_path,             # mandatory: normalized count matrix - a path to the counts file, or an in-memory AnnData object\n",
    "    counts_data = 'hgnc_symbol',                     # defines the gene annotation in counts matrix.\n",
    "    active_tfs_file_path = active_tf_path,           # optional: defines cell types and their active TFs.\n",
    "    microenvs_file_path = microenvs_file_path,       # optional (default: None): defines cells per microenvironment.\n",
    "    score_interactions = True,                       # optional: whether to score interactions or not. \n",
    "    iterations = 1000,                               # denotes the number of shufflings performed in the analysis.\n",
    "    threshold = 0.1,                                 # defines the min % of cells expressing a gene for this to be employed in the analysis.\n",
    "    threads = 5,                                     # number of threads to use in the analysis.\n",
    "    debug_seed = 42,                                 # debug randome seed. To disable >=0.\n",
    "    result_precision = 3,                            # Sets the rounding for the mean values in significan_means.\n",
    "    pvalue = 0.05,                                   # P-value threshold to employ for significance.\n",
    "    subsampling = False,                             # To enable subsampling the data (geometri sketching).\n",
    "    subsampling_log = False,                         # (mandatory) enable subsampling log1p for non log-transformed data inputs.\n",
    "    subsampling_num_pc = 100,                        # Number of componets to subsample via geometric skectching (dafault: 100).\n",
    "    subsampling_num_cells = 1000,                    # Number of cells to subsample (integer) (default: 1/3 of the dataset).\n",
    "    separator = '|',                                 # Sets the string to employ to separate cells in the results dataframes \"cellA|CellB\".\n",
    "    debug = False,                                   # Saves all intermediate tables employed during the analysis in pkl format.\n",
    "    output_path = out_path,                          # Path to save results.\n",
    "    output_suffix = None                             # Replaces the timestamp in the output files by a user defined string in the  (default: None).\n",
    "    )"
   ]
  },
  {
   "cell_type": "markdown",
   "metadata": {},
   "source": [
    "\n",
    "### Description of output files\n",
    "Most output files share common columns:\n",
    "\n",
    "**id_cp_interaction**: Unique CellphoneDB identifier for each interaction stored in the database.\n",
    "\n",
    "**interacting_pair**: Name of the interacting pairs separated by “|”.\n",
    "partner A or B: Identifier for the first interacting partner (A) or the second (B). It could be: UniProt (prefix simple:) or complex (prefix complex:)\n",
    "gene A or B: Gene identifier for the first interacting partner (A) or the second (B). The identifier will depend on the input user list.\n",
    "\n",
    "**secreted**: True if one of the partners is secreted.\n",
    "\n",
    "**Receptor A or B**: True if the first interacting partner (A) or the second (B) is annotated as a receptor in our database.\n",
    "\n",
    "**annotation_strategy**: Curated if the interaction was annotated by the CellphoneDB developers. Otherwise, the name of the database where the interaction has been downloaded from.\n",
    "\n",
    "**is_integrin**: True if one of the partners is integrin.\n",
    "\n",
    "**directionality**: Indiicates the directionality of the interaction and the charactersitics of the interactors.\n",
    "\n",
    "**classification**: Pathway classification for the interacting partners."
   ]
  },
  {
   "cell_type": "code",
   "execution_count": null,
   "metadata": {},
   "outputs": [],
   "source": [
    "#cell_a|cell_b: The p-value resulting from the statistical analysis.\n",
    "cpdb_results['pvalues'].head(2)"
   ]
  },
  {
   "cell_type": "code",
   "execution_count": null,
   "metadata": {},
   "outputs": [],
   "source": [
    "# means: Mean values for all the interacting partners:\n",
    "#  mean value refers to the total mean of the individual partner average expression \n",
    "# values in the corresponding interacting pairs of cell types. \n",
    "# If one of the mean values is 0, then the total mean is set to 0.\n",
    "cpdb_results['means'].head(2)"
   ]
  },
  {
   "cell_type": "code",
   "execution_count": null,
   "metadata": {},
   "outputs": [],
   "source": [
    "#significant_mean: Significant mean calculation for all the interacting partners. \n",
    "# If the interaction has been found relevant, the value will be the mean. \n",
    "# Alternatively, the value is absent.\n",
    "cpdb_results['significant_means'].head(2)"
   ]
  },
  {
   "cell_type": "code",
   "execution_count": null,
   "metadata": {},
   "outputs": [],
   "source": [
    "#scores: scores ranging from 0 to 100. The higher the score is, the more specific the interaction is expected to be.\n",
    "cpdb_results['interaction_scores'].head(2)"
   ]
  },
  {
   "cell_type": "markdown",
   "metadata": {},
   "source": [
    "**Deconvoluted** fields\n",
    "\n",
    " **gene_name**: Gene identifier for one of the subunits that are participating in the interaction defined in “means.csv” file. The identifier will depend on the input of the user list\n",
    "\n",
    "**uniprot**: UniProt identifier for one of the subunits that are participating in the interaction defined in “means.csv” file.\n",
    "    \n",
    "**is_complex**: True if the subunit is part of a complex. Single if it is not, complex if it is.\n",
    "    \n",
    "**protein_name**: Protein name for one of the subunits that are participating in the interaction defined in “means.csv” file.\n",
    "\n",
    "**complex_name**: Complex name if the subunit is part of a complex. Empty if not\n",
    "    \n",
    "**mean**: Mean expression of the corresponding gene in each cluster."
   ]
  },
  {
   "cell_type": "code",
   "execution_count": null,
   "metadata": {},
   "outputs": [],
   "source": [
    "cpdb_results['deconvoluted'].head(2)"
   ]
  },
  {
   "cell_type": "markdown",
   "metadata": {},
   "source": [
    "## Basic Plotting"
   ]
  },
  {
   "cell_type": "code",
   "execution_count": null,
   "metadata": {},
   "outputs": [],
   "source": [
    "import os\n",
    "import pandas as pd\n",
    "import ktplotspy as kpy\n",
    "import matplotlib.pyplot as plt\n",
    "%matplotlib inline"
   ]
  },
  {
   "cell_type": "code",
   "execution_count": null,
   "metadata": {},
   "outputs": [],
   "source": [
    "kpy.plot_cpdb_heatmap(pvals = cpdb_results['pvalues'],\n",
    "                      degs_analysis = False,\n",
    "                      figsize = (5, 5),\n",
    "                      title = \"Sum of significant interactions\")"
   ]
  },
  {
   "cell_type": "markdown",
   "metadata": {},
   "source": [
    "Here we are plotting the interactions between the PVs and the trophoblasts that are mediated by TGFB2 and CSF1R."
   ]
  },
  {
   "cell_type": "code",
   "execution_count": null,
   "metadata": {},
   "outputs": [],
   "source": [
    "kpy.plot_cpdb(\n",
    "    adata = adata,\n",
    "    cell_type1 = \"PV MYH11|PV STEAP4|PV MMPP11\",\n",
    "    cell_type2 = \"EVT_1|EVT_2|GC|iEVT|eEVT|VCT_CCC\",\n",
    "    means = cpdb_results['means'],\n",
    "    pvals = cpdb_results['pvalues'],\n",
    "    celltype_key = \"cell_labels\",\n",
    "    genes = [\"TGFB2\", \"CSF1R\"],\n",
    "    figsize = (10, 3),\n",
    "    title = \"Interactions between\\nPV and trophoblast\",\n",
    "    max_size = 3,\n",
    "    highlight_size = 0.75,\n",
    "    degs_analysis = False,\n",
    "    standard_scale = True,\n",
    "    interaction_scores = cpdb_results['interaction_scores'],\n",
    "    scale_alpha_by_interaction_scores = True\n",
    ")"
   ]
  },
  {
   "cell_type": "markdown",
   "metadata": {},
   "source": [
    "Interactions can also be plotted grouped by pathway.\n",
    "\n"
   ]
  },
  {
   "cell_type": "code",
   "execution_count": null,
   "metadata": {},
   "outputs": [],
   "source": [
    "from plotnine import facet_wrap\n",
    "\n",
    "p = kpy.plot_cpdb(\n",
    "    adata = adata,\n",
    "    cell_type1 = \"PV MYH11\",\n",
    "    cell_type2 = \"EVT_1|EVT_2|GC|iEVT|eEVT|VCT_CCC\",\n",
    "    means = cpdb_results['means'],\n",
    "    pvals = cpdb_results['pvalues'],\n",
    "    celltype_key = \"cell_labels\",\n",
    "    genes = [\"TGFB2\", \"CSF1R\", \"COL1A1\"],\n",
    "    figsize = (12, 8),\n",
    "    title = \"Interactions between PV and trophoblast\\ns grouped by classification\",\n",
    "    max_size = 6,\n",
    "    highlight_size = 0.75,\n",
    "    degs_analysis = False,\n",
    "    standard_scale = True,\n",
    ")\n",
    "p + facet_wrap(\"~ classification\", ncol = 1)"
   ]
  }
 ],
 "metadata": {
  "language_info": {
   "name": "python"
  }
 },
 "nbformat": 4,
 "nbformat_minor": 2
}
